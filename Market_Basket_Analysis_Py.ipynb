{
  "nbformat": 4,
  "nbformat_minor": 0,
  "metadata": {
    "colab": {
      "name": "Market Basket Analysis - Py",
      "provenance": [],
      "authorship_tag": "ABX9TyObSTft/z2INRZme47UFr42",
      "include_colab_link": true
    },
    "kernelspec": {
      "name": "python3",
      "display_name": "Python 3"
    }
  },
  "cells": [
    {
      "cell_type": "markdown",
      "metadata": {
        "id": "view-in-github",
        "colab_type": "text"
      },
      "source": [
        "<a href=\"https://colab.research.google.com/github/Abkhenaten/Market-Basket-Analysis/blob/master/Market_Basket_Analysis_Py.ipynb\" target=\"_parent\"><img src=\"https://colab.research.google.com/assets/colab-badge.svg\" alt=\"Open In Colab\"/></a>"
      ]
    },
    {
      "cell_type": "markdown",
      "metadata": {
        "id": "kF7UIEmWdEl3"
      },
      "source": [
        "\n",
        "Data preparation\n",
        "\n",
        "The first step in any Market Basket Analysis (MBA) project is to determine what constitutes an item, an itemset, and a transaction. This will depend on the dataset we're using and the question we're attempting to answer.\n",
        "\n",
        "    Grocery store\n",
        "        Item: Grocery\n",
        "        Itemset: Collection of groceries\n",
        "        Transaction: Basket of items purchased\n",
        "    Music streaming service\n",
        "        Item: Song\n",
        "        Itemset: Collection of unique songs\n",
        "        Transaction: User song library\n",
        "    Ebook store\n",
        "        Item: Ebook\n",
        "        Itemset: One or more ebooks\n",
        "        Transaction: User ebook library\n",
        "\n",
        "\n",
        "\n",
        "What is an item?\n",
        "\n",
        "    A product purchased from Olist.\n",
        "\n",
        "What is an itemset?\n",
        "\n",
        "    A collection of one or more product(s).\n",
        "\n",
        "What is a transaction?\n",
        "\n",
        "    An itemset that corresponds to a customer's order.\n",
        "\n"
      ]
    },
    {
      "cell_type": "code",
      "metadata": {
        "id": "pYZna7AzeYOS"
      },
      "source": [
        "# Import modules.\n",
        "import numpy as np\n",
        "import pandas as pd\n",
        "import matplotlib.pyplot as plt\n",
        "import seaborn as sns\n",
        "\n",
        "from mlxtend.preprocessing import TransactionEncoder\n",
        "\n",
        "# Set default asthetic parameters.\n",
        "sns.set()\n",
        "\n",
        "# Define path to data.\n",
        "data_path = 'https://github.com/datacamp/Market-Basket-Analysis-in-python-live-training/raw/master/data/'\n",
        "\n"
      ],
      "execution_count": null,
      "outputs": []
    },
    {
      "cell_type": "code",
      "metadata": {
        "id": "nBj9qix-d95d"
      },
      "source": [
        "# Load orders dataset.\n",
        "orders = pd.read_csv(data_path+'olist_order_items_dataset.csv')\n",
        "\n",
        "# Load products items dataset.\n",
        "products = pd.read_csv(data_path+'olist_products_dataset.csv')\n",
        "\n",
        "# Load translations dataset.\n",
        "translations = pd.read_csv(data_path+'product_category_name_translation.csv')"
      ],
      "execution_count": null,
      "outputs": []
    },
    {
      "cell_type": "code",
      "metadata": {
        "id": "ujSP0kLOcwd2",
        "colab": {
          "base_uri": "https://localhost:8080/",
          "height": 206
        },
        "outputId": "52d7a2da-25e6-495b-df06-e3babf4b5998"
      },
      "source": [
        "#Print orders header\n",
        "orders.head()"
      ],
      "execution_count": null,
      "outputs": [
        {
          "output_type": "execute_result",
          "data": {
            "text/html": [
              "<div>\n",
              "<style scoped>\n",
              "    .dataframe tbody tr th:only-of-type {\n",
              "        vertical-align: middle;\n",
              "    }\n",
              "\n",
              "    .dataframe tbody tr th {\n",
              "        vertical-align: top;\n",
              "    }\n",
              "\n",
              "    .dataframe thead th {\n",
              "        text-align: right;\n",
              "    }\n",
              "</style>\n",
              "<table border=\"1\" class=\"dataframe\">\n",
              "  <thead>\n",
              "    <tr style=\"text-align: right;\">\n",
              "      <th></th>\n",
              "      <th>order_id</th>\n",
              "      <th>order_item_id</th>\n",
              "      <th>product_id</th>\n",
              "      <th>price</th>\n",
              "    </tr>\n",
              "  </thead>\n",
              "  <tbody>\n",
              "    <tr>\n",
              "      <th>0</th>\n",
              "      <td>b8bfa12431142333a0c84802f9529d87</td>\n",
              "      <td>1</td>\n",
              "      <td>765a8070ece0f1383d0f5faf913dfb9b</td>\n",
              "      <td>81.0</td>\n",
              "    </tr>\n",
              "    <tr>\n",
              "      <th>1</th>\n",
              "      <td>b8bfa12431142333a0c84802f9529d87</td>\n",
              "      <td>2</td>\n",
              "      <td>a41e356c76fab66334f36de622ecbd3a</td>\n",
              "      <td>99.3</td>\n",
              "    </tr>\n",
              "    <tr>\n",
              "      <th>2</th>\n",
              "      <td>b8bfa12431142333a0c84802f9529d87</td>\n",
              "      <td>3</td>\n",
              "      <td>765a8070ece0f1383d0f5faf913dfb9b</td>\n",
              "      <td>81.0</td>\n",
              "    </tr>\n",
              "    <tr>\n",
              "      <th>3</th>\n",
              "      <td>00010242fe8c5a6d1ba2dd792cb16214</td>\n",
              "      <td>1</td>\n",
              "      <td>4244733e06e7ecb4970a6e2683c13e61</td>\n",
              "      <td>58.9</td>\n",
              "    </tr>\n",
              "    <tr>\n",
              "      <th>4</th>\n",
              "      <td>00018f77f2f0320c557190d7a144bdd3</td>\n",
              "      <td>1</td>\n",
              "      <td>e5f2d52b802189ee658865ca93d83a8f</td>\n",
              "      <td>239.9</td>\n",
              "    </tr>\n",
              "  </tbody>\n",
              "</table>\n",
              "</div>"
            ],
            "text/plain": [
              "                           order_id  ...  price\n",
              "0  b8bfa12431142333a0c84802f9529d87  ...   81.0\n",
              "1  b8bfa12431142333a0c84802f9529d87  ...   99.3\n",
              "2  b8bfa12431142333a0c84802f9529d87  ...   81.0\n",
              "3  00010242fe8c5a6d1ba2dd792cb16214  ...   58.9\n",
              "4  00018f77f2f0320c557190d7a144bdd3  ...  239.9\n",
              "\n",
              "[5 rows x 4 columns]"
            ]
          },
          "metadata": {
            "tags": []
          },
          "execution_count": 18
        }
      ]
    },
    {
      "cell_type": "code",
      "metadata": {
        "id": "Brw_IJBWeb_b",
        "colab": {
          "base_uri": "https://localhost:8080/",
          "height": 491
        },
        "outputId": "e759a6bd-4b26-4efb-fc6f-4746a3099cf0"
      },
      "source": [
        "#Print orders info\n",
        "orders.info()\n",
        "\n",
        "#print description\n",
        "orders.describe()"
      ],
      "execution_count": null,
      "outputs": [
        {
          "output_type": "stream",
          "text": [
            "<class 'pandas.core.frame.DataFrame'>\n",
            "RangeIndex: 112650 entries, 0 to 112649\n",
            "Data columns (total 4 columns):\n",
            " #   Column         Non-Null Count   Dtype  \n",
            "---  ------         --------------   -----  \n",
            " 0   order_id       112650 non-null  object \n",
            " 1   order_item_id  112650 non-null  int64  \n",
            " 2   product_id     112650 non-null  object \n",
            " 3   price          112650 non-null  float64\n",
            "dtypes: float64(1), int64(1), object(2)\n",
            "memory usage: 3.4+ MB\n"
          ],
          "name": "stdout"
        },
        {
          "output_type": "execute_result",
          "data": {
            "text/html": [
              "<div>\n",
              "<style scoped>\n",
              "    .dataframe tbody tr th:only-of-type {\n",
              "        vertical-align: middle;\n",
              "    }\n",
              "\n",
              "    .dataframe tbody tr th {\n",
              "        vertical-align: top;\n",
              "    }\n",
              "\n",
              "    .dataframe thead th {\n",
              "        text-align: right;\n",
              "    }\n",
              "</style>\n",
              "<table border=\"1\" class=\"dataframe\">\n",
              "  <thead>\n",
              "    <tr style=\"text-align: right;\">\n",
              "      <th></th>\n",
              "      <th>order_item_id</th>\n",
              "      <th>price</th>\n",
              "    </tr>\n",
              "  </thead>\n",
              "  <tbody>\n",
              "    <tr>\n",
              "      <th>count</th>\n",
              "      <td>112650.000000</td>\n",
              "      <td>112650.000000</td>\n",
              "    </tr>\n",
              "    <tr>\n",
              "      <th>mean</th>\n",
              "      <td>1.197834</td>\n",
              "      <td>120.653739</td>\n",
              "    </tr>\n",
              "    <tr>\n",
              "      <th>std</th>\n",
              "      <td>0.705124</td>\n",
              "      <td>183.633928</td>\n",
              "    </tr>\n",
              "    <tr>\n",
              "      <th>min</th>\n",
              "      <td>1.000000</td>\n",
              "      <td>0.850000</td>\n",
              "    </tr>\n",
              "    <tr>\n",
              "      <th>25%</th>\n",
              "      <td>1.000000</td>\n",
              "      <td>39.900000</td>\n",
              "    </tr>\n",
              "    <tr>\n",
              "      <th>50%</th>\n",
              "      <td>1.000000</td>\n",
              "      <td>74.990000</td>\n",
              "    </tr>\n",
              "    <tr>\n",
              "      <th>75%</th>\n",
              "      <td>1.000000</td>\n",
              "      <td>134.900000</td>\n",
              "    </tr>\n",
              "    <tr>\n",
              "      <th>max</th>\n",
              "      <td>21.000000</td>\n",
              "      <td>6735.000000</td>\n",
              "    </tr>\n",
              "  </tbody>\n",
              "</table>\n",
              "</div>"
            ],
            "text/plain": [
              "       order_item_id          price\n",
              "count  112650.000000  112650.000000\n",
              "mean        1.197834     120.653739\n",
              "std         0.705124     183.633928\n",
              "min         1.000000       0.850000\n",
              "25%         1.000000      39.900000\n",
              "50%         1.000000      74.990000\n",
              "75%         1.000000     134.900000\n",
              "max        21.000000    6735.000000"
            ]
          },
          "metadata": {
            "tags": []
          },
          "execution_count": 19
        }
      ]
    },
    {
      "cell_type": "code",
      "metadata": {
        "id": "tTID0dUMc2G4",
        "colab": {
          "base_uri": "https://localhost:8080/",
          "height": 206
        },
        "outputId": "58cdac76-55c7-4731-9cf7-0f7cfcb65eae"
      },
      "source": [
        "#Print orders header\n",
        "products.head()"
      ],
      "execution_count": null,
      "outputs": [
        {
          "output_type": "execute_result",
          "data": {
            "text/html": [
              "<div>\n",
              "<style scoped>\n",
              "    .dataframe tbody tr th:only-of-type {\n",
              "        vertical-align: middle;\n",
              "    }\n",
              "\n",
              "    .dataframe tbody tr th {\n",
              "        vertical-align: top;\n",
              "    }\n",
              "\n",
              "    .dataframe thead th {\n",
              "        text-align: right;\n",
              "    }\n",
              "</style>\n",
              "<table border=\"1\" class=\"dataframe\">\n",
              "  <thead>\n",
              "    <tr style=\"text-align: right;\">\n",
              "      <th></th>\n",
              "      <th>product_id</th>\n",
              "      <th>product_category_name</th>\n",
              "      <th>product_weight_g</th>\n",
              "      <th>product_length_cm</th>\n",
              "      <th>product_height_cm</th>\n",
              "      <th>product_width_cm</th>\n",
              "    </tr>\n",
              "  </thead>\n",
              "  <tbody>\n",
              "    <tr>\n",
              "      <th>0</th>\n",
              "      <td>1e9e8ef04dbcff4541ed26657ea517e5</td>\n",
              "      <td>perfumaria</td>\n",
              "      <td>225.0</td>\n",
              "      <td>16.0</td>\n",
              "      <td>10.0</td>\n",
              "      <td>14.0</td>\n",
              "    </tr>\n",
              "    <tr>\n",
              "      <th>1</th>\n",
              "      <td>3aa071139cb16b67ca9e5dea641aaa2f</td>\n",
              "      <td>artes</td>\n",
              "      <td>1000.0</td>\n",
              "      <td>30.0</td>\n",
              "      <td>18.0</td>\n",
              "      <td>20.0</td>\n",
              "    </tr>\n",
              "    <tr>\n",
              "      <th>2</th>\n",
              "      <td>96bd76ec8810374ed1b65e291975717f</td>\n",
              "      <td>esporte_lazer</td>\n",
              "      <td>154.0</td>\n",
              "      <td>18.0</td>\n",
              "      <td>9.0</td>\n",
              "      <td>15.0</td>\n",
              "    </tr>\n",
              "    <tr>\n",
              "      <th>3</th>\n",
              "      <td>cef67bcfe19066a932b7673e239eb23d</td>\n",
              "      <td>bebes</td>\n",
              "      <td>371.0</td>\n",
              "      <td>26.0</td>\n",
              "      <td>4.0</td>\n",
              "      <td>26.0</td>\n",
              "    </tr>\n",
              "    <tr>\n",
              "      <th>4</th>\n",
              "      <td>9dc1a7de274444849c219cff195d0b71</td>\n",
              "      <td>utilidades_domesticas</td>\n",
              "      <td>625.0</td>\n",
              "      <td>20.0</td>\n",
              "      <td>17.0</td>\n",
              "      <td>13.0</td>\n",
              "    </tr>\n",
              "  </tbody>\n",
              "</table>\n",
              "</div>"
            ],
            "text/plain": [
              "                         product_id  ... product_width_cm\n",
              "0  1e9e8ef04dbcff4541ed26657ea517e5  ...             14.0\n",
              "1  3aa071139cb16b67ca9e5dea641aaa2f  ...             20.0\n",
              "2  96bd76ec8810374ed1b65e291975717f  ...             15.0\n",
              "3  cef67bcfe19066a932b7673e239eb23d  ...             26.0\n",
              "4  9dc1a7de274444849c219cff195d0b71  ...             13.0\n",
              "\n",
              "[5 rows x 6 columns]"
            ]
          },
          "metadata": {
            "tags": []
          },
          "execution_count": 20
        }
      ]
    },
    {
      "cell_type": "code",
      "metadata": {
        "id": "aNlgG11garu1",
        "colab": {
          "base_uri": "https://localhost:8080/",
          "height": 526
        },
        "outputId": "87a161a0-410f-4271-a16f-3307745adaf6"
      },
      "source": [
        "#Print orders info\n",
        "products.info()\n",
        "\n",
        "#print description\n",
        "products.describe()"
      ],
      "execution_count": null,
      "outputs": [
        {
          "output_type": "stream",
          "text": [
            "<class 'pandas.core.frame.DataFrame'>\n",
            "RangeIndex: 32951 entries, 0 to 32950\n",
            "Data columns (total 6 columns):\n",
            " #   Column                 Non-Null Count  Dtype  \n",
            "---  ------                 --------------  -----  \n",
            " 0   product_id             32951 non-null  object \n",
            " 1   product_category_name  32341 non-null  object \n",
            " 2   product_weight_g       32949 non-null  float64\n",
            " 3   product_length_cm      32949 non-null  float64\n",
            " 4   product_height_cm      32949 non-null  float64\n",
            " 5   product_width_cm       32949 non-null  float64\n",
            "dtypes: float64(4), object(2)\n",
            "memory usage: 1.5+ MB\n"
          ],
          "name": "stdout"
        },
        {
          "output_type": "execute_result",
          "data": {
            "text/html": [
              "<div>\n",
              "<style scoped>\n",
              "    .dataframe tbody tr th:only-of-type {\n",
              "        vertical-align: middle;\n",
              "    }\n",
              "\n",
              "    .dataframe tbody tr th {\n",
              "        vertical-align: top;\n",
              "    }\n",
              "\n",
              "    .dataframe thead th {\n",
              "        text-align: right;\n",
              "    }\n",
              "</style>\n",
              "<table border=\"1\" class=\"dataframe\">\n",
              "  <thead>\n",
              "    <tr style=\"text-align: right;\">\n",
              "      <th></th>\n",
              "      <th>product_weight_g</th>\n",
              "      <th>product_length_cm</th>\n",
              "      <th>product_height_cm</th>\n",
              "      <th>product_width_cm</th>\n",
              "    </tr>\n",
              "  </thead>\n",
              "  <tbody>\n",
              "    <tr>\n",
              "      <th>count</th>\n",
              "      <td>32949.000000</td>\n",
              "      <td>32949.000000</td>\n",
              "      <td>32949.000000</td>\n",
              "      <td>32949.000000</td>\n",
              "    </tr>\n",
              "    <tr>\n",
              "      <th>mean</th>\n",
              "      <td>2276.472488</td>\n",
              "      <td>30.815078</td>\n",
              "      <td>16.937661</td>\n",
              "      <td>23.196728</td>\n",
              "    </tr>\n",
              "    <tr>\n",
              "      <th>std</th>\n",
              "      <td>4282.038731</td>\n",
              "      <td>16.914458</td>\n",
              "      <td>13.637554</td>\n",
              "      <td>12.079047</td>\n",
              "    </tr>\n",
              "    <tr>\n",
              "      <th>min</th>\n",
              "      <td>0.000000</td>\n",
              "      <td>7.000000</td>\n",
              "      <td>2.000000</td>\n",
              "      <td>6.000000</td>\n",
              "    </tr>\n",
              "    <tr>\n",
              "      <th>25%</th>\n",
              "      <td>300.000000</td>\n",
              "      <td>18.000000</td>\n",
              "      <td>8.000000</td>\n",
              "      <td>15.000000</td>\n",
              "    </tr>\n",
              "    <tr>\n",
              "      <th>50%</th>\n",
              "      <td>700.000000</td>\n",
              "      <td>25.000000</td>\n",
              "      <td>13.000000</td>\n",
              "      <td>20.000000</td>\n",
              "    </tr>\n",
              "    <tr>\n",
              "      <th>75%</th>\n",
              "      <td>1900.000000</td>\n",
              "      <td>38.000000</td>\n",
              "      <td>21.000000</td>\n",
              "      <td>30.000000</td>\n",
              "    </tr>\n",
              "    <tr>\n",
              "      <th>max</th>\n",
              "      <td>40425.000000</td>\n",
              "      <td>105.000000</td>\n",
              "      <td>105.000000</td>\n",
              "      <td>118.000000</td>\n",
              "    </tr>\n",
              "  </tbody>\n",
              "</table>\n",
              "</div>"
            ],
            "text/plain": [
              "       product_weight_g  product_length_cm  product_height_cm  product_width_cm\n",
              "count      32949.000000       32949.000000       32949.000000      32949.000000\n",
              "mean        2276.472488          30.815078          16.937661         23.196728\n",
              "std         4282.038731          16.914458          13.637554         12.079047\n",
              "min            0.000000           7.000000           2.000000          6.000000\n",
              "25%          300.000000          18.000000           8.000000         15.000000\n",
              "50%          700.000000          25.000000          13.000000         20.000000\n",
              "75%         1900.000000          38.000000          21.000000         30.000000\n",
              "max        40425.000000         105.000000         105.000000        118.000000"
            ]
          },
          "metadata": {
            "tags": []
          },
          "execution_count": 21
        }
      ]
    },
    {
      "cell_type": "code",
      "metadata": {
        "id": "VznDas9bc5iT",
        "colab": {
          "base_uri": "https://localhost:8080/",
          "height": 206
        },
        "outputId": "232f13fa-d18a-4b37-f835-98fc083db34a"
      },
      "source": [
        "#Print orders header\n",
        "translations.head()"
      ],
      "execution_count": null,
      "outputs": [
        {
          "output_type": "execute_result",
          "data": {
            "text/html": [
              "<div>\n",
              "<style scoped>\n",
              "    .dataframe tbody tr th:only-of-type {\n",
              "        vertical-align: middle;\n",
              "    }\n",
              "\n",
              "    .dataframe tbody tr th {\n",
              "        vertical-align: top;\n",
              "    }\n",
              "\n",
              "    .dataframe thead th {\n",
              "        text-align: right;\n",
              "    }\n",
              "</style>\n",
              "<table border=\"1\" class=\"dataframe\">\n",
              "  <thead>\n",
              "    <tr style=\"text-align: right;\">\n",
              "      <th></th>\n",
              "      <th>product_category_name</th>\n",
              "      <th>product_category_name_english</th>\n",
              "    </tr>\n",
              "  </thead>\n",
              "  <tbody>\n",
              "    <tr>\n",
              "      <th>0</th>\n",
              "      <td>beleza_saude</td>\n",
              "      <td>health_beauty</td>\n",
              "    </tr>\n",
              "    <tr>\n",
              "      <th>1</th>\n",
              "      <td>informatica_acessorios</td>\n",
              "      <td>computers_accessories</td>\n",
              "    </tr>\n",
              "    <tr>\n",
              "      <th>2</th>\n",
              "      <td>automotivo</td>\n",
              "      <td>auto</td>\n",
              "    </tr>\n",
              "    <tr>\n",
              "      <th>3</th>\n",
              "      <td>cama_mesa_banho</td>\n",
              "      <td>bed_bath_table</td>\n",
              "    </tr>\n",
              "    <tr>\n",
              "      <th>4</th>\n",
              "      <td>moveis_decoracao</td>\n",
              "      <td>furniture_decor</td>\n",
              "    </tr>\n",
              "  </tbody>\n",
              "</table>\n",
              "</div>"
            ],
            "text/plain": [
              "    product_category_name product_category_name_english\n",
              "0            beleza_saude                 health_beauty\n",
              "1  informatica_acessorios         computers_accessories\n",
              "2              automotivo                          auto\n",
              "3         cama_mesa_banho                bed_bath_table\n",
              "4        moveis_decoracao               furniture_decor"
            ]
          },
          "metadata": {
            "tags": []
          },
          "execution_count": 22
        }
      ]
    },
    {
      "cell_type": "code",
      "metadata": {
        "id": "U-mQWfe9cSuv",
        "colab": {
          "base_uri": "https://localhost:8080/",
          "height": 331
        },
        "outputId": "c4d28cb7-09bc-497e-f228-3bb249f1a237"
      },
      "source": [
        "#Print orders info\n",
        "translations.info()\n",
        "\n",
        "#print description\n",
        "translations.describe()"
      ],
      "execution_count": null,
      "outputs": [
        {
          "output_type": "stream",
          "text": [
            "<class 'pandas.core.frame.DataFrame'>\n",
            "RangeIndex: 71 entries, 0 to 70\n",
            "Data columns (total 2 columns):\n",
            " #   Column                         Non-Null Count  Dtype \n",
            "---  ------                         --------------  ----- \n",
            " 0   product_category_name          71 non-null     object\n",
            " 1   product_category_name_english  71 non-null     object\n",
            "dtypes: object(2)\n",
            "memory usage: 1.2+ KB\n"
          ],
          "name": "stdout"
        },
        {
          "output_type": "execute_result",
          "data": {
            "text/html": [
              "<div>\n",
              "<style scoped>\n",
              "    .dataframe tbody tr th:only-of-type {\n",
              "        vertical-align: middle;\n",
              "    }\n",
              "\n",
              "    .dataframe tbody tr th {\n",
              "        vertical-align: top;\n",
              "    }\n",
              "\n",
              "    .dataframe thead th {\n",
              "        text-align: right;\n",
              "    }\n",
              "</style>\n",
              "<table border=\"1\" class=\"dataframe\">\n",
              "  <thead>\n",
              "    <tr style=\"text-align: right;\">\n",
              "      <th></th>\n",
              "      <th>product_category_name</th>\n",
              "      <th>product_category_name_english</th>\n",
              "    </tr>\n",
              "  </thead>\n",
              "  <tbody>\n",
              "    <tr>\n",
              "      <th>count</th>\n",
              "      <td>71</td>\n",
              "      <td>71</td>\n",
              "    </tr>\n",
              "    <tr>\n",
              "      <th>unique</th>\n",
              "      <td>71</td>\n",
              "      <td>71</td>\n",
              "    </tr>\n",
              "    <tr>\n",
              "      <th>top</th>\n",
              "      <td>bebidas</td>\n",
              "      <td>books_technical</td>\n",
              "    </tr>\n",
              "    <tr>\n",
              "      <th>freq</th>\n",
              "      <td>1</td>\n",
              "      <td>1</td>\n",
              "    </tr>\n",
              "  </tbody>\n",
              "</table>\n",
              "</div>"
            ],
            "text/plain": [
              "       product_category_name product_category_name_english\n",
              "count                     71                            71\n",
              "unique                    71                            71\n",
              "top                  bebidas               books_technical\n",
              "freq                       1                             1"
            ]
          },
          "metadata": {
            "tags": []
          },
          "execution_count": 23
        }
      ]
    },
    {
      "cell_type": "markdown",
      "metadata": {
        "id": "3BOUTSfmdpwq"
      },
      "source": [
        "\n",
        "Translating item category names\n",
        "\n",
        "The product names are given in Portuguese. We'll translate the names to English using a pandas DataFrame named translations."
      ]
    },
    {
      "cell_type": "code",
      "metadata": {
        "id": "imIjR_qDdx_1",
        "colab": {
          "base_uri": "https://localhost:8080/",
          "height": 225
        },
        "outputId": "c92486d9-e809-4246-e365-60e7b7907a07"
      },
      "source": [
        "#Translate product name to English\n",
        "products = products.merge(translations, on='product_category_name', how='left')\n",
        "\n",
        "products['product_category_name_english']"
      ],
      "execution_count": null,
      "outputs": [
        {
          "output_type": "execute_result",
          "data": {
            "text/plain": [
              "0                          perfume\n",
              "1                              art\n",
              "2                   sports_leisure\n",
              "3                             baby\n",
              "4                       housewares\n",
              "                   ...            \n",
              "32946              furniture_decor\n",
              "32947    construction_tools_lights\n",
              "32948               bed_bath_table\n",
              "32949        computers_accessories\n",
              "32950               bed_bath_table\n",
              "Name: product_category_name_english, Length: 32951, dtype: object"
            ]
          },
          "metadata": {
            "tags": []
          },
          "execution_count": 25
        }
      ]
    },
    {
      "cell_type": "markdown",
      "metadata": {
        "id": "l--0r4WNezXN"
      },
      "source": [
        "\n",
        "Convert product IDs to product category names.\n",
        "\n",
        "    Map product IDs to product category names, which are available in products.\n",
        "    Use another .merge() with orders and subset of products columns.\n"
      ]
    },
    {
      "cell_type": "code",
      "metadata": {
        "id": "kBHwzwelel4E",
        "colab": {
          "base_uri": "https://localhost:8080/",
          "height": 226
        },
        "outputId": "686232b8-5a86-4149-fdad-78d22c13dff4"
      },
      "source": [
        "#Define product catefoty name in orders DataFrame\n",
        "orders = orders.merge(products[['product_id','product_category_name_english']], on='product_id', how='left')\n",
        "orders.head()"
      ],
      "execution_count": null,
      "outputs": [
        {
          "output_type": "execute_result",
          "data": {
            "text/html": [
              "<div>\n",
              "<style scoped>\n",
              "    .dataframe tbody tr th:only-of-type {\n",
              "        vertical-align: middle;\n",
              "    }\n",
              "\n",
              "    .dataframe tbody tr th {\n",
              "        vertical-align: top;\n",
              "    }\n",
              "\n",
              "    .dataframe thead th {\n",
              "        text-align: right;\n",
              "    }\n",
              "</style>\n",
              "<table border=\"1\" class=\"dataframe\">\n",
              "  <thead>\n",
              "    <tr style=\"text-align: right;\">\n",
              "      <th></th>\n",
              "      <th>order_id</th>\n",
              "      <th>order_item_id</th>\n",
              "      <th>product_id</th>\n",
              "      <th>price</th>\n",
              "      <th>product_category_name_english_x</th>\n",
              "      <th>product_category_name_english_y</th>\n",
              "      <th>product_category_name_english_x</th>\n",
              "      <th>product_category_name_english_y</th>\n",
              "      <th>product_category_name_english</th>\n",
              "    </tr>\n",
              "  </thead>\n",
              "  <tbody>\n",
              "    <tr>\n",
              "      <th>0</th>\n",
              "      <td>b8bfa12431142333a0c84802f9529d87</td>\n",
              "      <td>1</td>\n",
              "      <td>765a8070ece0f1383d0f5faf913dfb9b</td>\n",
              "      <td>81.0</td>\n",
              "      <td>sports_leisure</td>\n",
              "      <td>sports_leisure</td>\n",
              "      <td>sports_leisure</td>\n",
              "      <td>sports_leisure</td>\n",
              "      <td>sports_leisure</td>\n",
              "    </tr>\n",
              "    <tr>\n",
              "      <th>1</th>\n",
              "      <td>b8bfa12431142333a0c84802f9529d87</td>\n",
              "      <td>2</td>\n",
              "      <td>a41e356c76fab66334f36de622ecbd3a</td>\n",
              "      <td>99.3</td>\n",
              "      <td>NaN</td>\n",
              "      <td>NaN</td>\n",
              "      <td>NaN</td>\n",
              "      <td>NaN</td>\n",
              "      <td>NaN</td>\n",
              "    </tr>\n",
              "    <tr>\n",
              "      <th>2</th>\n",
              "      <td>b8bfa12431142333a0c84802f9529d87</td>\n",
              "      <td>3</td>\n",
              "      <td>765a8070ece0f1383d0f5faf913dfb9b</td>\n",
              "      <td>81.0</td>\n",
              "      <td>sports_leisure</td>\n",
              "      <td>sports_leisure</td>\n",
              "      <td>sports_leisure</td>\n",
              "      <td>sports_leisure</td>\n",
              "      <td>sports_leisure</td>\n",
              "    </tr>\n",
              "    <tr>\n",
              "      <th>3</th>\n",
              "      <td>00010242fe8c5a6d1ba2dd792cb16214</td>\n",
              "      <td>1</td>\n",
              "      <td>4244733e06e7ecb4970a6e2683c13e61</td>\n",
              "      <td>58.9</td>\n",
              "      <td>cool_stuff</td>\n",
              "      <td>cool_stuff</td>\n",
              "      <td>cool_stuff</td>\n",
              "      <td>cool_stuff</td>\n",
              "      <td>cool_stuff</td>\n",
              "    </tr>\n",
              "    <tr>\n",
              "      <th>4</th>\n",
              "      <td>00018f77f2f0320c557190d7a144bdd3</td>\n",
              "      <td>1</td>\n",
              "      <td>e5f2d52b802189ee658865ca93d83a8f</td>\n",
              "      <td>239.9</td>\n",
              "      <td>pet_shop</td>\n",
              "      <td>pet_shop</td>\n",
              "      <td>pet_shop</td>\n",
              "      <td>pet_shop</td>\n",
              "      <td>pet_shop</td>\n",
              "    </tr>\n",
              "  </tbody>\n",
              "</table>\n",
              "</div>"
            ],
            "text/plain": [
              "                           order_id  ...  product_category_name_english\n",
              "0  b8bfa12431142333a0c84802f9529d87  ...                 sports_leisure\n",
              "1  b8bfa12431142333a0c84802f9529d87  ...                            NaN\n",
              "2  b8bfa12431142333a0c84802f9529d87  ...                 sports_leisure\n",
              "3  00010242fe8c5a6d1ba2dd792cb16214  ...                     cool_stuff\n",
              "4  00018f77f2f0320c557190d7a144bdd3  ...                       pet_shop\n",
              "\n",
              "[5 rows x 9 columns]"
            ]
          },
          "metadata": {
            "tags": []
          },
          "execution_count": 33
        }
      ]
    },
    {
      "cell_type": "code",
      "metadata": {
        "id": "QnGk1XD9fwIk"
      },
      "source": [
        "#Drop products without a defined category\n",
        "orders.dropna(inplace=True, subset=['product_category_name_english'])"
      ],
      "execution_count": null,
      "outputs": []
    },
    {
      "cell_type": "code",
      "metadata": {
        "id": "GO3saBQhgCst",
        "colab": {
          "base_uri": "https://localhost:8080/",
          "height": 34
        },
        "outputId": "2acee41b-4497-45fb-b79e-d1131e0d6995"
      },
      "source": [
        "#Print number of unique items\n",
        "len(orders['product_id'].unique())"
      ],
      "execution_count": null,
      "outputs": [
        {
          "output_type": "execute_result",
          "data": {
            "text/plain": [
              "32328"
            ]
          },
          "metadata": {
            "tags": []
          },
          "execution_count": 36
        }
      ]
    },
    {
      "cell_type": "code",
      "metadata": {
        "id": "brxn9aAogRYt",
        "colab": {
          "base_uri": "https://localhost:8080/",
          "height": 34
        },
        "outputId": "1cc91c72-29a7-4ed6-e01d-6843ad79ad00"
      },
      "source": [
        "#Print number of unique categories\n",
        "len(orders['product_category_name_english'].unique())"
      ],
      "execution_count": null,
      "outputs": [
        {
          "output_type": "execute_result",
          "data": {
            "text/plain": [
              "71"
            ]
          },
          "metadata": {
            "tags": []
          },
          "execution_count": 37
        }
      ]
    },
    {
      "cell_type": "markdown",
      "metadata": {
        "id": "6MF4qIgfi_OK"
      },
      "source": [
        "\n",
        "Construct transactions from order and product data\n",
        "\n",
        "    We will perform Market Basket Analysis on transactions. A transaction consists of the unique items purchased by a customer.\n",
        "    Need to extract transactions from orders DataFrame. Group all items in an order.\n",
        "\n"
      ]
    },
    {
      "cell_type": "code",
      "metadata": {
        "id": "fn0smsXVjO4w",
        "colab": {
          "base_uri": "https://localhost:8080/",
          "height": 69
        },
        "outputId": "916e2fc7-4128-4145-e304-1dae1533aa55"
      },
      "source": [
        "#ID transactions associated with example order.\n",
        "example1 = orders[orders['order_id'] == 'fe64170e936bc5f6a6a41def260984b9']['product_category_name_english']\n",
        "\n",
        "example1"
      ],
      "execution_count": null,
      "outputs": [
        {
          "output_type": "execute_result",
          "data": {
            "text/plain": [
              "111984     bed_bath_table\n",
              "111985    furniture_decor\n",
              "Name: product_category_name_english, dtype: object"
            ]
          },
          "metadata": {
            "tags": []
          },
          "execution_count": 40
        }
      ]
    },
    {
      "cell_type": "code",
      "metadata": {
        "id": "wwJkI_E3j1SF",
        "colab": {
          "base_uri": "https://localhost:8080/",
          "height": 104
        },
        "outputId": "79c9e831-5e44-47f3-c014-8c91c317920c"
      },
      "source": [
        "#ID transactions associated with example order\n",
        "example2 = orders[orders['order_id'] == 'fffb9224b6fc7c43ebb0904318b10b5f']['product_category_name_english']\n",
        "\n",
        "example2"
      ],
      "execution_count": null,
      "outputs": [
        {
          "output_type": "execute_result",
          "data": {
            "text/plain": [
              "112640    watches_gifts\n",
              "112641    watches_gifts\n",
              "112642    watches_gifts\n",
              "112643    watches_gifts\n",
              "Name: product_category_name_english, dtype: object"
            ]
          },
          "metadata": {
            "tags": []
          },
          "execution_count": 41
        }
      ]
    },
    {
      "cell_type": "markdown",
      "metadata": {
        "id": "yoSVw_bzkKj1"
      },
      "source": [
        "\n",
        "\n",
        "Map orders to transactions.\n",
        "\n",
        "    .groupby() splits a DataFrame into groups according to some criterion.\n",
        "    .unique() returns list of unique values.\n",
        "\n"
      ]
    },
    {
      "cell_type": "code",
      "metadata": {
        "id": "BSDCHNv_kQtU",
        "colab": {
          "base_uri": "https://localhost:8080/",
          "height": 139
        },
        "outputId": "a799c0d5-c7fe-4c0b-82be-3e1c825580fd"
      },
      "source": [
        "#Recover transaction itemsets from orders Dataframe\n",
        "transactions = orders.groupby('order_id').product_category_name_english.unique()\n",
        "transactions.head()"
      ],
      "execution_count": null,
      "outputs": [
        {
          "output_type": "execute_result",
          "data": {
            "text/plain": [
              "order_id\n",
              "00010242fe8c5a6d1ba2dd792cb16214         [cool_stuff]\n",
              "00018f77f2f0320c557190d7a144bdd3           [pet_shop]\n",
              "000229ec398224ef6ca0657da4fc703e    [furniture_decor]\n",
              "00024acbcdf0a6daa1e931b038114c75            [perfume]\n",
              "00042b26cf59d7ce69dfabb4e55b4fd9       [garden_tools]\n",
              "Name: product_category_name_english, dtype: object"
            ]
          },
          "metadata": {
            "tags": []
          },
          "execution_count": 42
        }
      ]
    },
    {
      "cell_type": "code",
      "metadata": {
        "id": "MKgqKaZ6kzOC",
        "colab": {
          "base_uri": "https://localhost:8080/",
          "height": 564
        },
        "outputId": "727c0fe6-3d5b-4b5c-9a0e-ffdb0a105f47"
      },
      "source": [
        "#Plot 50 largest categories of transactions\n",
        "transactions.value_counts()[:50].plot(kind='bar', figsize=(15,5))"
      ],
      "execution_count": null,
      "outputs": [
        {
          "output_type": "execute_result",
          "data": {
            "text/plain": [
              "<matplotlib.axes._subplots.AxesSubplot at 0x7fc43ecf5400>"
            ]
          },
          "metadata": {
            "tags": []
          },
          "execution_count": 43
        },
        {
          "output_type": "display_data",
          "data": {
            "image/png": "[encoded data removed]",
            "text/plain": [
              "<Figure size 1080x360 with 1 Axes>"
            ]
          },
          "metadata": {
            "tags": []
          }
        }
      ]
    },
    {
      "cell_type": "code",
      "metadata": {
        "id": "M8kz2B6mlG4X"
      },
      "source": [
        "#Convert pandas series to list of lists\n",
        "transactions = transactions.tolist()"
      ],
      "execution_count": null,
      "outputs": []
    },
    {
      "cell_type": "markdown",
      "metadata": {
        "id": "eyXAwQeSlgvM"
      },
      "source": [
        "Summarize final transaction data"
      ]
    },
    {
      "cell_type": "code",
      "metadata": {
        "id": "cCVqMfuuletQ",
        "colab": {
          "base_uri": "https://localhost:8080/",
          "height": 34
        },
        "outputId": "e554f1a0-3107-42b0-bf1b-a366a6cfea86"
      },
      "source": [
        "#Lenght of transactions\n",
        "len(transactions)"
      ],
      "execution_count": null,
      "outputs": [
        {
          "output_type": "execute_result",
          "data": {
            "text/plain": [
              "97256"
            ]
          },
          "metadata": {
            "tags": []
          },
          "execution_count": 44
        }
      ]
    },
    {
      "cell_type": "code",
      "metadata": {
        "id": "9eu1RRk9ltVb"
      },
      "source": [
        "#Number of unique categories for each transaction\n",
        "counts = [len(transaction) for transaction in transactions]"
      ],
      "execution_count": null,
      "outputs": []
    },
    {
      "cell_type": "code",
      "metadata": {
        "id": "tlu0A9J6mMcg",
        "colab": {
          "base_uri": "https://localhost:8080/",
          "height": 34
        },
        "outputId": "6ecd65a5-9495-45bd-dc7e-08d67c650892"
      },
      "source": [
        "#Median number of items in a transaction\n",
        "np.median(counts)"
      ],
      "execution_count": null,
      "outputs": [
        {
          "output_type": "execute_result",
          "data": {
            "text/plain": [
              "1.0"
            ]
          },
          "metadata": {
            "tags": []
          },
          "execution_count": 48
        }
      ]
    },
    {
      "cell_type": "code",
      "metadata": {
        "id": "AXiF2PBKmVCw",
        "colab": {
          "base_uri": "https://localhost:8080/",
          "height": 34
        },
        "outputId": "294da2df-2c16-4000-a8f5-ae81e1d93d77"
      },
      "source": [
        "#Maximum number of items in a transaction\n",
        "np.max(counts)"
      ],
      "execution_count": null,
      "outputs": [
        {
          "output_type": "execute_result",
          "data": {
            "text/plain": [
              "3"
            ]
          },
          "metadata": {
            "tags": []
          },
          "execution_count": 49
        }
      ]
    },
    {
      "cell_type": "markdown",
      "metadata": {
        "id": "VTTA6UG8moma"
      },
      "source": [
        "\n",
        "Association Rules and Metrics\n",
        "\n",
        "Association rule: an \"if-then\" relationship between two itemsets.\n",
        "\n",
        "    rule: if {coffee) then {milk}.\n",
        "    antecedent: coffee\n",
        "    consequent: milk\n",
        "\n",
        "Metric: a measure of the strength of association between two itemsets.\n",
        "\n",
        "    rule: if {coffee) then {milk}\n",
        "    support: 0.10\n",
        "    leverage: 0.03\n",
        "\n",
        "One-hot encode the transaction data\n",
        "\n",
        "    One-hot encoding data.\n",
        "        TransactionEncoder() instantiates an encoder object.\n",
        "        .fit() creates mapping between list and one-hot encoding.\n",
        "        .transform() transforms list into one-hot encoded array.\n",
        "\n",
        "    Applying one-hot encoding will transform the list of lists (of transactions) into a DataFrame.\n",
        "        \n",
        "    One-hot encoding simplifies the computation of metrics.\n",
        " \n",
        "\n"
      ]
    },
    {
      "cell_type": "code",
      "metadata": {
        "id": "PPDIHn7Gm0LG"
      },
      "source": [
        ""
      ],
      "execution_count": null,
      "outputs": []
    }
  ]
}